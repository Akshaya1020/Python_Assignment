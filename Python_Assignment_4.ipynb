{
 "cells": [
  {
   "cell_type": "markdown",
   "metadata": {},
   "source": [
    "### Question 1.1"
   ]
  },
  {
   "cell_type": "markdown",
   "metadata": {},
   "source": [
    "Write a Python Program(with class concepts) to find the area of the triangle using the below\n",
    "formula.\n",
    "area = (s*(s-a)*(s-b)*(s-c)) ** 0.5\n",
    "Function to take the length of the sides of triangle from user should be defined in the parent\n",
    "class and function to calculate the area should be defined in subclass."
   ]
  },
  {
   "cell_type": "code",
   "execution_count": 1,
   "metadata": {},
   "outputs": [
    {
     "name": "stdout",
     "output_type": "stream",
     "text": [
      "a=12\n",
      "b=10\n",
      "c=5\n",
      "area : 24.544602257930357\n"
     ]
    }
   ],
   "source": [
    "class poly:\n",
    "    def __init__(self,a,b,c):\n",
    "        self.a = float(a)\n",
    "        self.b = float(b)\n",
    "        self.c = float(c)\n",
    "a= int(input(\"a=\"))\n",
    "b= int(input(\"b=\"))\n",
    "c= int(input(\"c=\"))\n",
    "\n",
    "class triangle(poly):\n",
    "    def __init__(self,a,b,c):\n",
    "        super().__init__(a,b,c)\n",
    "\n",
    "    def get_area(self):\n",
    "        s = (a + b + c) / 2\n",
    "        return (s*(s-a)*(s-b)*(s-c)) ** 0.5        \n",
    "\n",
    "t = triangle(a,b,c)\n",
    "print(\"area : {}\".format(t.get_area()))"
   ]
  },
  {
   "cell_type": "markdown",
   "metadata": {},
   "source": [
    "### Question 1.2"
   ]
  },
  {
   "cell_type": "markdown",
   "metadata": {},
   "source": [
    "Write a function filter_long_words() that takes a list of words and an integer n and returns\n",
    "the list of words that are longer than n."
   ]
  },
  {
   "cell_type": "code",
   "execution_count": 9,
   "metadata": {},
   "outputs": [
    {
     "name": "stdout",
     "output_type": "stream",
     "text": [
      "Enter words, separated by spaces: aks akshaya mad aniruth ani rami ramya\n",
      "Minimum length of words to keep: 4\n",
      "Words longer than 4 are akshaya, aniruth, rami, ramya.\n"
     ]
    }
   ],
   "source": [
    "def longwords(wordlist, length):\n",
    "    return (word for word in wordlist if len(word) >= length)\n",
    "\n",
    "def main():\n",
    "    words = input(\"Enter words, separated by spaces: \").split()\n",
    "    length = int(input(\"Minimum length of words to keep: \"))\n",
    "    print(\"Words longer than {} are {}.\".format(length,\n",
    "          ', '.join(longwords(words, length))))\n",
    "\n",
    "main()"
   ]
  },
  {
   "cell_type": "markdown",
   "metadata": {},
   "source": [
    "### Question 2.1"
   ]
  },
  {
   "cell_type": "markdown",
   "metadata": {},
   "source": [
    "Write a Python program using function concept that maps list of words into a list of integers\n",
    "representing the lengths of the corresponding words."
   ]
  },
  {
   "cell_type": "code",
   "execution_count": 12,
   "metadata": {},
   "outputs": [
    {
     "name": "stdout",
     "output_type": "stream",
     "text": [
      "Input : Please enter Words : ab,cde,erty\n",
      "Output: Length of Words are : [2, 3, 4]\n"
     ]
    }
   ],
   "source": [
    "def map_Words_to_Length(List):\n",
    "    \n",
    "    return list(map(len, List))\n",
    "\n",
    "word_List=list(input(\"Input : Please enter Words : \").split(\",\"))\n",
    "\n",
    "List=[x.strip() for x in word_List]\n",
    "\n",
    "Words_lengths=map_Words_to_Length(List)\n",
    "\n",
    "print(\"Output: Length of Words are :\",Words_lengths )"
   ]
  },
  {
   "cell_type": "markdown",
   "metadata": {},
   "source": [
    "### Question 2.2"
   ]
  },
  {
   "cell_type": "markdown",
   "metadata": {},
   "source": [
    "Write a Python function which takes a character (i.e. a string of length 1) and returns True if\n",
    "it is a vowel, False otherwise."
   ]
  },
  {
   "cell_type": "code",
   "execution_count": 9,
   "metadata": {},
   "outputs": [
    {
     "name": "stdout",
     "output_type": "stream",
     "text": [
      "Enter character to check that it is Vowel or not\n",
      "Input Value: g\n",
      "Output Value: False\n"
     ]
    }
   ],
   "source": [
    "def vowel_checker(inputChar):\n",
    "    return_value=''\n",
    "    if(len(inputChar)==1):\n",
    "        vowel_list=['a','e','i','o','u']\n",
    "        if (inputChar.lower() in vowel_list):\n",
    "            return_value= True\n",
    "        else:\n",
    "            return_value= False\n",
    "    else:\n",
    "        return_value=\"Please enter single character only!\"        \n",
    "    return return_value\n",
    "\n",
    "print(\"Enter character to check that it is Vowel or not\")\n",
    "input_value = input(\"Input Value: \")\n",
    "\n",
    "output_value=vowel_checker(input_value) \n",
    "\n",
    "print(\"Output Value:\",output_value)"
   ]
  },
  {
   "cell_type": "code",
   "execution_count": null,
   "metadata": {},
   "outputs": [],
   "source": []
  }
 ],
 "metadata": {
  "kernelspec": {
   "display_name": "Python 3",
   "language": "python",
   "name": "python3"
  },
  "language_info": {
   "codemirror_mode": {
    "name": "ipython",
    "version": 3
   },
   "file_extension": ".py",
   "mimetype": "text/x-python",
   "name": "python",
   "nbconvert_exporter": "python",
   "pygments_lexer": "ipython3",
   "version": "3.8.3"
  }
 },
 "nbformat": 4,
 "nbformat_minor": 4
}
